{
 "cells": [
  {
   "cell_type": "code",
   "execution_count": null,
   "id": "f4c301c3",
   "metadata": {},
   "outputs": [],
   "source": [
    "import pandas as pd\n",
    "import random\n",
    "import logging\n",
    "import openai\n",
    "from bertopic import BERTopic\n",
    "from bertopic.representation import OpenAI\n",
    "from bertopic.vectorizers import ClassTfidfTransformer\n",
    "from sklearn.decomposition import PCA\n",
    "from bertopic.dimensionality import BaseDimensionalityReduction\n",
    "from sklearn.feature_extraction.text import CountVectorizer\n",
    "\n",
    "df = pd.read_csv(\"training-data.csv\")\n",
    "docs = list(df[\"Text\"])\n",
    "summarization_prompt = \"\"\"\n",
    "I have a topic that is described by the following keywords: [KEYWORDS]\n",
    "In this topic, the following documents are a small but representative subset of all documents in the topic:\n",
    "[DOCUMENTS]\n",
    "\n",
    "Based on the information above, please give a sentence description of this topic in the following format:\n",
    "<description>\n",
    "\"\"\"\n",
    "# Train BERTopic with a custom CountVectorizer\n",
    "vectorizer_model = CountVectorizer(ngram_range=(1, 3), stop_words=\"english\")\n",
    "ctfidf_model = ClassTfidfTransformer(bm25_weighting=True)\n",
    "# Create your representation model\n",
    "client = openai.OpenAI(api_key=\"API_KEY\")\n",
    "representation_model = OpenAI(client, model=\"gpt-4-0125-preview\", delay_in_seconds=2, chat=True, nr_docs=5, prompt=summarization_prompt)\n",
    "topic_model = BERTopic(verbose=True, ctfidf_model=ctfidf_model, embedding_model=\"all-mpnet-base-v2\", vectorizer_model=vectorizer_model)\n",
    "topics, probs = topic_model.fit_transform(docs)\n",
    "# Reduce and update topics\n",
    "new_topics = topic_model.reduce_outliers(docs, topics, strategy=\"embeddings\")\n",
    "topic_model.update_topics(docs, topics=new_topics, representation_model=representation_model)\n",
    "# Create df and save to csv\n",
    "df_topics = topic_model.get_document_info(docs)\n",
    "df_topics[\"Sentiment\"] = df[\"Sentiment\"]\n",
    "df_topics.to_csv(\"topic-data.csv\", index=False)"
   ]
  }
 ],
 "metadata": {
  "kernelspec": {
   "display_name": "virtualENV",
   "language": "python",
   "name": "virtualenv"
  },
  "language_info": {
   "codemirror_mode": {
    "name": "ipython",
    "version": 3
   },
   "file_extension": ".py",
   "mimetype": "text/x-python",
   "name": "python",
   "nbconvert_exporter": "python",
   "pygments_lexer": "ipython3",
   "version": "3.9.16"
  }
 },
 "nbformat": 4,
 "nbformat_minor": 5
}
