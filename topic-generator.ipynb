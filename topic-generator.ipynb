{
 "cells": [
  {
   "cell_type": "code",
   "execution_count": 1,
   "id": "3a20f04c",
   "metadata": {},
   "outputs": [
    {
     "name": "stderr",
     "output_type": "stream",
     "text": [
      "/home/jovyan/virtualENV/lib/python3.9/site-packages/tqdm/auto.py:21: TqdmWarning: IProgress not found. Please update jupyter and ipywidgets. See https://ipywidgets.readthedocs.io/en/stable/user_install.html\n",
      "  from .autonotebook import tqdm as notebook_tqdm\n",
      "2024-03-28 15:43:13.605761: I tensorflow/core/util/port.cc:113] oneDNN custom operations are on. You may see slightly different numerical results due to floating-point round-off errors from different computation orders. To turn them off, set the environment variable `TF_ENABLE_ONEDNN_OPTS=0`.\n",
      "2024-03-28 15:43:13.648091: E external/local_xla/xla/stream_executor/cuda/cuda_dnn.cc:9261] Unable to register cuDNN factory: Attempting to register factory for plugin cuDNN when one has already been registered\n",
      "2024-03-28 15:43:13.648126: E external/local_xla/xla/stream_executor/cuda/cuda_fft.cc:607] Unable to register cuFFT factory: Attempting to register factory for plugin cuFFT when one has already been registered\n",
      "2024-03-28 15:43:13.649180: E external/local_xla/xla/stream_executor/cuda/cuda_blas.cc:1515] Unable to register cuBLAS factory: Attempting to register factory for plugin cuBLAS when one has already been registered\n",
      "2024-03-28 15:43:13.656281: I tensorflow/core/platform/cpu_feature_guard.cc:182] This TensorFlow binary is optimized to use available CPU instructions in performance-critical operations.\n",
      "To enable the following instructions: AVX2 AVX512F AVX512_VNNI FMA, in other operations, rebuild TensorFlow with the appropriate compiler flags.\n",
      "2024-03-28 15:43:14.511141: W tensorflow/compiler/tf2tensorrt/utils/py_utils.cc:38] TF-TRT Warning: Could not find TensorRT\n"
     ]
    }
   ],
   "source": [
    "import pandas as pd\n",
    "import random\n",
    "import logging\n",
    "import openai\n",
    "from bertopic import BERTopic\n",
    "from bertopic.representation import OpenAI\n",
    "from bertopic.vectorizers import ClassTfidfTransformer\n",
    "from sklearn.decomposition import PCA\n",
    "from bertopic.dimensionality import BaseDimensionalityReduction\n",
    "from sklearn.feature_extraction.text import CountVectorizer\n",
    "from sklearn.feature_extraction.text import CountVectorizer"
   ]
  },
  {
   "cell_type": "code",
   "execution_count": 2,
   "id": "f194919f",
   "metadata": {},
   "outputs": [],
   "source": [
    "df = pd.read_csv(\"training-data.csv\")\n",
    "docs = list(df[\"Text\"])\n",
    "logging.basicConfig(format='%(asctime)s - %(levelname)s - %(message)s', level=logging.INFO)\n",
    "logger = logging.getLogger(__name__)"
   ]
  },
  {
   "cell_type": "code",
   "execution_count": 3,
   "id": "13f5cf69",
   "metadata": {},
   "outputs": [],
   "source": [
    "summarization_prompt = \"\"\"\n",
    "I have a topic that is described by the following keywords: [KEYWORDS]\n",
    "In this topic, the following documents are a small but representative subset of all documents in the topic:\n",
    "[DOCUMENTS]\n",
    "\n",
    "Based on the information above, please give a sentence description of this topic in the following format:\n",
    "<description>\n",
    "\"\"\""
   ]
  },
  {
   "cell_type": "code",
   "execution_count": 6,
   "id": "fb328083",
   "metadata": {},
   "outputs": [
    {
     "name": "stderr",
     "output_type": "stream",
     "text": [
      "2024-03-28 15:45:27,957 - BERTopic - Embedding - Transforming documents to embeddings.\n",
      "2024-03-28 15:45:27,958 - INFO - Load pretrained SentenceTransformer: all-mpnet-base-v2\n",
      "2024-03-28 15:45:29,835 - INFO - Use pytorch device_name: cuda\n",
      "Batches: 100%|██████████| 122/122 [00:02<00:00, 46.68it/s]\n",
      "2024-03-28 15:45:32,929 - BERTopic - Embedding - Completed ✓\n",
      "2024-03-28 15:45:32,930 - BERTopic - Dimensionality - Fitting the dimensionality reduction algorithm\n",
      "2024-03-28 15:46:04,337 - BERTopic - Dimensionality - Completed ✓\n",
      "2024-03-28 15:46:04,339 - BERTopic - Cluster - Start clustering the reduced embeddings\n",
      "2024-03-28 15:46:04,484 - BERTopic - Cluster - Completed ✓\n",
      "2024-03-28 15:46:04,495 - BERTopic - Representation - Extracting topics from clusters using representation models.\n",
      "2024-03-28 15:46:04,945 - BERTopic - Representation - Completed ✓\n"
     ]
    }
   ],
   "source": [
    "from sklearn.feature_extraction.text import CountVectorizer\n",
    "\n",
    "# Train BERTopic with a custom CountVectorizer\n",
    "vectorizer_model = CountVectorizer(ngram_range=(1, 3), stop_words=\"english\")\n",
    "ctfidf_model = ClassTfidfTransformer(bm25_weighting=True)\n",
    "# Create your representation model\n",
    "client = openai.OpenAI(api_key=\"API_KEY\")\n",
    "representation_model = OpenAI(client, model=\"gpt-4-0125-preview\", delay_in_seconds=2, chat=True, nr_docs=5, prompt=summarization_prompt)\n",
    "topic_model = BERTopic(verbose=True, ctfidf_model=ctfidf_model, embedding_model=\"all-mpnet-base-v2\", vectorizer_model=vectorizer_model)\n",
    "topics, probs = topic_model.fit_transform(docs)"
   ]
  },
  {
   "cell_type": "code",
   "execution_count": 7,
   "id": "7d7246b5",
   "metadata": {},
   "outputs": [],
   "source": [
    "new_topics = topic_model.reduce_outliers(docs, topics, strategy=\"embeddings\")"
   ]
  },
  {
   "cell_type": "code",
   "execution_count": 10,
   "id": "89b9ee8b",
   "metadata": {},
   "outputs": [
    {
     "name": "stderr",
     "output_type": "stream",
     "text": [
      "2024-03-28 15:48:15,656 - BERTopic - WARNING: Using a custom list of topic assignments may lead to errors if topic reduction techniques are used afterwards. Make sure that manually assigning topics is the last step in the pipeline.Note that topic embeddings will also be created through weightedc-TF-IDF embeddings instead of centroid embeddings.\n",
      "  0%|          | 0/86 [00:00<?, ?it/s]2024-03-28 15:48:20,466 - INFO - HTTP Request: POST https://api.openai.com/v1/chat/completions \"HTTP/1.1 200 OK\"\n",
      "  1%|          | 1/86 [00:04<06:18,  4.45s/it]2024-03-28 15:48:24,922 - INFO - HTTP Request: POST https://api.openai.com/v1/chat/completions \"HTTP/1.1 200 OK\"\n",
      "  2%|▏         | 2/86 [00:08<06:13,  4.45s/it]2024-03-28 15:48:29,258 - INFO - HTTP Request: POST https://api.openai.com/v1/chat/completions \"HTTP/1.1 200 OK\"\n",
      "  3%|▎         | 3/86 [00:13<06:05,  4.40s/it]2024-03-28 15:48:34,508 - INFO - HTTP Request: POST https://api.openai.com/v1/chat/completions \"HTTP/1.1 200 OK\"\n",
      "  5%|▍         | 4/86 [00:18<06:28,  4.73s/it]2024-03-28 15:48:39,097 - INFO - HTTP Request: POST https://api.openai.com/v1/chat/completions \"HTTP/1.1 200 OK\"\n",
      "  6%|▌         | 5/86 [00:23<06:19,  4.68s/it]2024-03-28 15:48:44,289 - INFO - HTTP Request: POST https://api.openai.com/v1/chat/completions \"HTTP/1.1 200 OK\"\n",
      "  7%|▋         | 6/86 [00:28<06:28,  4.86s/it]2024-03-28 15:48:50,198 - INFO - HTTP Request: POST https://api.openai.com/v1/chat/completions \"HTTP/1.1 200 OK\"\n",
      "  8%|▊         | 7/86 [00:34<06:50,  5.20s/it]2024-03-28 15:48:59,313 - INFO - HTTP Request: POST https://api.openai.com/v1/chat/completions \"HTTP/1.1 200 OK\"\n",
      "  9%|▉         | 8/86 [00:43<08:22,  6.45s/it]2024-03-28 15:49:05,513 - INFO - HTTP Request: POST https://api.openai.com/v1/chat/completions \"HTTP/1.1 200 OK\"\n",
      " 10%|█         | 9/86 [00:49<08:10,  6.37s/it]2024-03-28 15:49:09,350 - INFO - HTTP Request: POST https://api.openai.com/v1/chat/completions \"HTTP/1.1 200 OK\"\n",
      " 12%|█▏        | 10/86 [00:53<07:04,  5.59s/it]2024-03-28 15:49:13,609 - INFO - HTTP Request: POST https://api.openai.com/v1/chat/completions \"HTTP/1.1 200 OK\"\n",
      " 13%|█▎        | 11/86 [00:57<06:28,  5.18s/it]2024-03-28 15:49:17,655 - INFO - HTTP Request: POST https://api.openai.com/v1/chat/completions \"HTTP/1.1 200 OK\"\n",
      " 14%|█▍        | 12/86 [01:01<05:57,  4.84s/it]2024-03-28 15:49:21,085 - INFO - HTTP Request: POST https://api.openai.com/v1/chat/completions \"HTTP/1.1 200 OK\"\n",
      " 15%|█▌        | 13/86 [01:05<05:21,  4.41s/it]2024-03-28 15:49:26,848 - INFO - HTTP Request: POST https://api.openai.com/v1/chat/completions \"HTTP/1.1 200 OK\"\n",
      " 16%|█▋        | 14/86 [01:10<05:46,  4.82s/it]2024-03-28 15:49:31,931 - INFO - HTTP Request: POST https://api.openai.com/v1/chat/completions \"HTTP/1.1 200 OK\"\n",
      " 17%|█▋        | 15/86 [01:15<05:47,  4.90s/it]2024-03-28 15:49:36,174 - INFO - HTTP Request: POST https://api.openai.com/v1/chat/completions \"HTTP/1.1 200 OK\"\n",
      " 19%|█▊        | 16/86 [01:20<05:29,  4.70s/it]2024-03-28 15:49:41,589 - INFO - HTTP Request: POST https://api.openai.com/v1/chat/completions \"HTTP/1.1 200 OK\"\n",
      " 20%|█▉        | 17/86 [01:25<05:39,  4.92s/it]2024-03-28 15:49:47,191 - INFO - HTTP Request: POST https://api.openai.com/v1/chat/completions \"HTTP/1.1 200 OK\"\n",
      " 21%|██        | 18/86 [01:31<05:48,  5.12s/it]2024-03-28 15:49:52,130 - INFO - HTTP Request: POST https://api.openai.com/v1/chat/completions \"HTTP/1.1 200 OK\"\n",
      " 22%|██▏       | 19/86 [01:36<05:39,  5.07s/it]2024-03-28 15:49:59,304 - INFO - HTTP Request: POST https://api.openai.com/v1/chat/completions \"HTTP/1.1 200 OK\"\n",
      " 23%|██▎       | 20/86 [01:43<06:16,  5.70s/it]2024-03-28 15:50:03,340 - INFO - HTTP Request: POST https://api.openai.com/v1/chat/completions \"HTTP/1.1 200 OK\"\n",
      " 24%|██▍       | 21/86 [01:47<05:38,  5.20s/it]2024-03-28 15:50:07,523 - INFO - HTTP Request: POST https://api.openai.com/v1/chat/completions \"HTTP/1.1 200 OK\"\n",
      " 26%|██▌       | 22/86 [01:51<05:13,  4.89s/it]2024-03-28 15:50:12,176 - INFO - HTTP Request: POST https://api.openai.com/v1/chat/completions \"HTTP/1.1 200 OK\"\n",
      " 27%|██▋       | 23/86 [01:56<05:03,  4.82s/it]2024-03-28 15:50:17,131 - INFO - HTTP Request: POST https://api.openai.com/v1/chat/completions \"HTTP/1.1 200 OK\"\n",
      " 28%|██▊       | 24/86 [02:01<05:01,  4.86s/it]2024-03-28 15:50:21,994 - INFO - HTTP Request: POST https://api.openai.com/v1/chat/completions \"HTTP/1.1 200 OK\"\n",
      " 29%|██▉       | 25/86 [02:05<04:56,  4.86s/it]2024-03-28 15:50:26,713 - INFO - HTTP Request: POST https://api.openai.com/v1/chat/completions \"HTTP/1.1 200 OK\"\n",
      " 30%|███       | 26/86 [02:10<04:49,  4.82s/it]2024-03-28 15:50:31,165 - INFO - HTTP Request: POST https://api.openai.com/v1/chat/completions \"HTTP/1.1 200 OK\"\n",
      " 31%|███▏      | 27/86 [02:15<04:37,  4.71s/it]2024-03-28 15:50:36,173 - INFO - HTTP Request: POST https://api.openai.com/v1/chat/completions \"HTTP/1.1 200 OK\"\n",
      " 33%|███▎      | 28/86 [02:20<04:38,  4.80s/it]2024-03-28 15:50:41,174 - INFO - HTTP Request: POST https://api.openai.com/v1/chat/completions \"HTTP/1.1 200 OK\"\n",
      " 34%|███▎      | 29/86 [02:25<04:36,  4.86s/it]2024-03-28 15:50:46,772 - INFO - HTTP Request: POST https://api.openai.com/v1/chat/completions \"HTTP/1.1 200 OK\"\n",
      " 35%|███▍      | 30/86 [02:30<04:44,  5.08s/it]2024-03-28 15:50:50,839 - INFO - HTTP Request: POST https://api.openai.com/v1/chat/completions \"HTTP/1.1 200 OK\"\n",
      " 36%|███▌      | 31/86 [02:34<04:22,  4.78s/it]2024-03-28 15:50:56,452 - INFO - HTTP Request: POST https://api.openai.com/v1/chat/completions \"HTTP/1.1 200 OK\"\n",
      " 37%|███▋      | 32/86 [02:40<04:31,  5.03s/it]2024-03-28 15:51:02,813 - INFO - HTTP Request: POST https://api.openai.com/v1/chat/completions \"HTTP/1.1 200 OK\"\n",
      " 38%|███▊      | 33/86 [02:46<04:47,  5.43s/it]2024-03-28 15:51:10,290 - INFO - HTTP Request: POST https://api.openai.com/v1/chat/completions \"HTTP/1.1 200 OK\"\n",
      " 40%|███▉      | 34/86 [02:54<05:14,  6.04s/it]2024-03-28 15:51:14,552 - INFO - HTTP Request: POST https://api.openai.com/v1/chat/completions \"HTTP/1.1 200 OK\"\n",
      " 41%|████      | 35/86 [02:58<04:40,  5.51s/it]2024-03-28 15:51:19,281 - INFO - HTTP Request: POST https://api.openai.com/v1/chat/completions \"HTTP/1.1 200 OK\"\n",
      " 42%|████▏     | 36/86 [03:03<04:23,  5.27s/it]2024-03-28 15:51:23,376 - INFO - HTTP Request: POST https://api.openai.com/v1/chat/completions \"HTTP/1.1 200 OK\"\n",
      " 43%|████▎     | 37/86 [03:07<04:01,  4.92s/it]2024-03-28 15:51:26,925 - INFO - HTTP Request: POST https://api.openai.com/v1/chat/completions \"HTTP/1.1 200 OK\"\n",
      " 44%|████▍     | 38/86 [03:10<03:36,  4.51s/it]2024-03-28 15:51:32,006 - INFO - HTTP Request: POST https://api.openai.com/v1/chat/completions \"HTTP/1.1 200 OK\"\n",
      " 45%|████▌     | 39/86 [03:15<03:39,  4.68s/it]2024-03-28 15:51:38,446 - INFO - HTTP Request: POST https://api.openai.com/v1/chat/completions \"HTTP/1.1 200 OK\"\n",
      " 47%|████▋     | 40/86 [03:22<03:59,  5.21s/it]2024-03-28 15:51:42,558 - INFO - HTTP Request: POST https://api.openai.com/v1/chat/completions \"HTTP/1.1 200 OK\"\n",
      " 48%|████▊     | 41/86 [03:26<03:39,  4.88s/it]2024-03-28 15:51:47,135 - INFO - HTTP Request: POST https://api.openai.com/v1/chat/completions \"HTTP/1.1 200 OK\"\n",
      " 49%|████▉     | 42/86 [03:31<03:30,  4.79s/it]2024-03-28 15:51:52,209 - INFO - HTTP Request: POST https://api.openai.com/v1/chat/completions \"HTTP/1.1 200 OK\"\n",
      " 50%|█████     | 43/86 [03:36<03:29,  4.87s/it]2024-03-28 15:51:57,810 - INFO - HTTP Request: POST https://api.openai.com/v1/chat/completions \"HTTP/1.1 200 OK\"\n",
      " 51%|█████     | 44/86 [03:41<03:33,  5.09s/it]2024-03-28 15:52:03,592 - INFO - HTTP Request: POST https://api.openai.com/v1/chat/completions \"HTTP/1.1 200 OK\"\n",
      " 52%|█████▏    | 45/86 [03:47<03:37,  5.30s/it]2024-03-28 15:52:07,371 - INFO - HTTP Request: POST https://api.openai.com/v1/chat/completions \"HTTP/1.1 200 OK\"\n",
      " 53%|█████▎    | 46/86 [03:51<03:13,  4.84s/it]2024-03-28 15:52:12,369 - INFO - HTTP Request: POST https://api.openai.com/v1/chat/completions \"HTTP/1.1 200 OK\"\n",
      " 55%|█████▍    | 47/86 [03:56<03:10,  4.89s/it]2024-03-28 15:52:17,303 - INFO - HTTP Request: POST https://api.openai.com/v1/chat/completions \"HTTP/1.1 200 OK\"\n",
      " 56%|█████▌    | 48/86 [04:01<03:06,  4.90s/it]2024-03-28 15:52:22,430 - INFO - HTTP Request: POST https://api.openai.com/v1/chat/completions \"HTTP/1.1 200 OK\"\n",
      " 57%|█████▋    | 49/86 [04:06<03:03,  4.97s/it]2024-03-28 15:52:28,538 - INFO - HTTP Request: POST https://api.openai.com/v1/chat/completions \"HTTP/1.1 200 OK\"\n",
      " 58%|█████▊    | 50/86 [04:12<03:11,  5.31s/it]2024-03-28 15:52:33,090 - INFO - HTTP Request: POST https://api.openai.com/v1/chat/completions \"HTTP/1.1 200 OK\"\n",
      " 59%|█████▉    | 51/86 [04:17<02:57,  5.08s/it]2024-03-28 15:52:39,253 - INFO - HTTP Request: POST https://api.openai.com/v1/chat/completions \"HTTP/1.1 200 OK\"\n",
      " 60%|██████    | 52/86 [04:23<03:03,  5.41s/it]2024-03-28 15:52:43,858 - INFO - HTTP Request: POST https://api.openai.com/v1/chat/completions \"HTTP/1.1 200 OK\"\n",
      " 62%|██████▏   | 53/86 [04:27<02:50,  5.17s/it]2024-03-28 15:52:48,773 - INFO - HTTP Request: POST https://api.openai.com/v1/chat/completions \"HTTP/1.1 200 OK\"\n",
      " 63%|██████▎   | 54/86 [04:32<02:42,  5.09s/it]2024-03-28 15:52:53,501 - INFO - HTTP Request: POST https://api.openai.com/v1/chat/completions \"HTTP/1.1 200 OK\"\n",
      " 64%|██████▍   | 55/86 [04:37<02:34,  4.98s/it]2024-03-28 15:52:58,881 - INFO - HTTP Request: POST https://api.openai.com/v1/chat/completions \"HTTP/1.1 200 OK\"\n",
      " 65%|██████▌   | 56/86 [04:42<02:33,  5.10s/it]2024-03-28 15:53:03,694 - INFO - HTTP Request: POST https://api.openai.com/v1/chat/completions \"HTTP/1.1 200 OK\"\n",
      " 66%|██████▋   | 57/86 [04:47<02:25,  5.01s/it]2024-03-28 15:53:09,336 - INFO - HTTP Request: POST https://api.openai.com/v1/chat/completions \"HTTP/1.1 200 OK\"\n",
      " 67%|██████▋   | 58/86 [04:53<02:25,  5.20s/it]2024-03-28 15:53:24,402 - INFO - HTTP Request: POST https://api.openai.com/v1/chat/completions \"HTTP/1.1 200 OK\"\n",
      " 69%|██████▊   | 59/86 [05:08<03:40,  8.16s/it]2024-03-28 15:53:30,182 - INFO - HTTP Request: POST https://api.openai.com/v1/chat/completions \"HTTP/1.1 200 OK\"\n",
      " 70%|██████▉   | 60/86 [05:14<03:13,  7.45s/it]2024-03-28 15:53:36,715 - INFO - HTTP Request: POST https://api.openai.com/v1/chat/completions \"HTTP/1.1 200 OK\"\n",
      " 71%|███████   | 61/86 [05:20<02:59,  7.17s/it]2024-03-28 15:53:40,693 - INFO - HTTP Request: POST https://api.openai.com/v1/chat/completions \"HTTP/1.1 200 OK\"\n",
      " 72%|███████▏  | 62/86 [05:24<02:29,  6.21s/it]2024-03-28 15:53:46,419 - INFO - HTTP Request: POST https://api.openai.com/v1/chat/completions \"HTTP/1.1 200 OK\"\n",
      " 73%|███████▎  | 63/86 [05:30<02:19,  6.07s/it]2024-03-28 15:53:51,481 - INFO - HTTP Request: POST https://api.openai.com/v1/chat/completions \"HTTP/1.1 200 OK\"\n",
      " 74%|███████▍  | 64/86 [05:35<02:06,  5.77s/it]2024-03-28 15:53:56,129 - INFO - HTTP Request: POST https://api.openai.com/v1/chat/completions \"HTTP/1.1 200 OK\"\n",
      " 76%|███████▌  | 65/86 [05:40<01:54,  5.43s/it]2024-03-28 15:54:02,089 - INFO - HTTP Request: POST https://api.openai.com/v1/chat/completions \"HTTP/1.1 200 OK\"\n",
      " 77%|███████▋  | 66/86 [05:46<01:51,  5.59s/it]2024-03-28 15:54:06,586 - INFO - HTTP Request: POST https://api.openai.com/v1/chat/completions \"HTTP/1.1 200 OK\"\n",
      " 78%|███████▊  | 67/86 [05:50<01:39,  5.26s/it]2024-03-28 15:54:10,613 - INFO - HTTP Request: POST https://api.openai.com/v1/chat/completions \"HTTP/1.1 200 OK\"\n",
      " 79%|███████▉  | 68/86 [05:54<01:28,  4.89s/it]2024-03-28 15:54:15,239 - INFO - HTTP Request: POST https://api.openai.com/v1/chat/completions \"HTTP/1.1 200 OK\"\n",
      " 80%|████████  | 69/86 [05:59<01:21,  4.81s/it]2024-03-28 15:54:22,467 - INFO - HTTP Request: POST https://api.openai.com/v1/chat/completions \"HTTP/1.1 200 OK\"\n",
      " 81%|████████▏ | 70/86 [06:06<01:28,  5.54s/it]2024-03-28 15:54:27,707 - INFO - HTTP Request: POST https://api.openai.com/v1/chat/completions \"HTTP/1.1 200 OK\"\n",
      " 83%|████████▎ | 71/86 [06:11<01:21,  5.45s/it]2024-03-28 15:54:32,466 - INFO - HTTP Request: POST https://api.openai.com/v1/chat/completions \"HTTP/1.1 200 OK\"\n",
      " 84%|████████▎ | 72/86 [06:16<01:13,  5.24s/it]2024-03-28 15:54:38,500 - INFO - HTTP Request: POST https://api.openai.com/v1/chat/completions \"HTTP/1.1 200 OK\"\n",
      " 85%|████████▍ | 73/86 [06:22<01:11,  5.48s/it]2024-03-28 15:54:45,776 - INFO - HTTP Request: POST https://api.openai.com/v1/chat/completions \"HTTP/1.1 200 OK\"\n",
      " 86%|████████▌ | 74/86 [06:29<01:12,  6.02s/it]2024-03-28 15:54:51,118 - INFO - HTTP Request: POST https://api.openai.com/v1/chat/completions \"HTTP/1.1 200 OK\"\n",
      " 87%|████████▋ | 75/86 [06:35<01:03,  5.82s/it]2024-03-28 15:54:54,749 - INFO - HTTP Request: POST https://api.openai.com/v1/chat/completions \"HTTP/1.1 200 OK\"\n",
      " 88%|████████▊ | 76/86 [06:38<00:51,  5.16s/it]2024-03-28 15:54:59,185 - INFO - HTTP Request: POST https://api.openai.com/v1/chat/completions \"HTTP/1.1 200 OK\"\n",
      " 90%|████████▉ | 77/86 [06:43<00:44,  4.94s/it]2024-03-28 15:55:06,556 - INFO - HTTP Request: POST https://api.openai.com/v1/chat/completions \"HTTP/1.1 200 OK\"\n",
      " 91%|█████████ | 78/86 [06:50<00:45,  5.67s/it]2024-03-28 15:55:10,981 - INFO - HTTP Request: POST https://api.openai.com/v1/chat/completions \"HTTP/1.1 200 OK\"\n",
      " 92%|█████████▏| 79/86 [06:54<00:37,  5.30s/it]2024-03-28 15:55:15,951 - INFO - HTTP Request: POST https://api.openai.com/v1/chat/completions \"HTTP/1.1 200 OK\"\n",
      " 93%|█████████▎| 80/86 [06:59<00:31,  5.20s/it]2024-03-28 15:55:23,507 - INFO - HTTP Request: POST https://api.openai.com/v1/chat/completions \"HTTP/1.1 200 OK\"\n",
      " 94%|█████████▍| 81/86 [07:07<00:29,  5.91s/it]2024-03-28 15:55:29,185 - INFO - HTTP Request: POST https://api.openai.com/v1/chat/completions \"HTTP/1.1 200 OK\"\n",
      " 95%|█████████▌| 82/86 [07:13<00:23,  5.84s/it]2024-03-28 15:55:42,260 - INFO - HTTP Request: POST https://api.openai.com/v1/chat/completions \"HTTP/1.1 200 OK\"\n",
      " 97%|█████████▋| 83/86 [07:26<00:24,  8.01s/it]2024-03-28 15:55:47,053 - INFO - HTTP Request: POST https://api.openai.com/v1/chat/completions \"HTTP/1.1 200 OK\"\n",
      " 98%|█████████▊| 84/86 [07:31<00:14,  7.04s/it]2024-03-28 15:55:51,265 - INFO - HTTP Request: POST https://api.openai.com/v1/chat/completions \"HTTP/1.1 200 OK\"\n",
      " 99%|█████████▉| 85/86 [07:35<00:06,  6.19s/it]2024-03-28 15:55:56,332 - INFO - HTTP Request: POST https://api.openai.com/v1/chat/completions \"HTTP/1.1 200 OK\"\n",
      "100%|██████████| 86/86 [07:40<00:00,  5.35s/it]\n"
     ]
    }
   ],
   "source": [
    "topic_model.update_topics(docs, topics=new_topics, representation_model=representation_model)"
   ]
  },
  {
   "cell_type": "code",
   "execution_count": 13,
   "id": "2c3d311d",
   "metadata": {},
   "outputs": [],
   "source": [
    "df_topics = topic_model.get_document_info(docs)"
   ]
  },
  {
   "cell_type": "code",
   "execution_count": 18,
   "id": "d0925de4",
   "metadata": {},
   "outputs": [],
   "source": [
    "df_topics[\"Sentiment\"] = df[\"Sentiment\"]"
   ]
  },
  {
   "cell_type": "code",
   "execution_count": 21,
   "id": "f8a822c1",
   "metadata": {},
   "outputs": [],
   "source": [
    "df_topics.to_csv(\"topic-data.csv\", index=False)"
   ]
  },
  {
   "cell_type": "code",
   "execution_count": null,
   "id": "fee8ae11",
   "metadata": {},
   "outputs": [],
   "source": []
  }
 ],
 "metadata": {
  "kernelspec": {
   "display_name": "virtualENV",
   "language": "python",
   "name": "virtualenv"
  },
  "language_info": {
   "codemirror_mode": {
    "name": "ipython",
    "version": 3
   },
   "file_extension": ".py",
   "mimetype": "text/x-python",
   "name": "python",
   "nbconvert_exporter": "python",
   "pygments_lexer": "ipython3",
   "version": "3.9.16"
  }
 },
 "nbformat": 4,
 "nbformat_minor": 5
}
