{
 "cells": [
  {
   "cell_type": "markdown",
   "metadata": {},
   "source": [
    "## Imports"
   ]
  },
  {
   "cell_type": "code",
   "execution_count": null,
   "metadata": {},
   "outputs": [],
   "source": [
    "import dspy\n",
    "import random\n",
    "import numpy as np\n",
    "import pandas as pd\n",
    "import time\n",
    "from sklearn.feature_extraction.text import TfidfVectorizer"
   ]
  },
  {
   "cell_type": "markdown",
   "metadata": {},
   "source": [
    "## Configure LM and Read-in Topics"
   ]
  },
  {
   "cell_type": "code",
   "execution_count": null,
   "metadata": {
    "id": "350A8cAUo_pX"
   },
   "outputs": [],
   "source": [
    "# Set up model\n",
    "lm = dspy.OpenAI(model='gpt-4-0125-preview', api_key=\"API_KEY\")\n",
    "dspy.settings.configure(lm = lm)\n",
    "# Load in topic model results\n",
    "df = pd.read_csv(\"topic-data.csv\")"
   ]
  },
  {
   "cell_type": "markdown",
   "metadata": {},
   "source": [
    "## Functions "
   ]
  },
  {
   "cell_type": "code",
   "execution_count": null,
   "metadata": {},
   "outputs": [],
   "source": [
    "# Function for top n tfidf values in row and return them with their corresponding feature names\n",
    "def top_tfidf_feats(row, features, top_n):\n",
    "    topn_ids = np.argsort(row)[::-1][:top_n]\n",
    "    top_feats = [(features[i], row[i]) for i in topn_ids]\n",
    "    df = pd.DataFrame(top_feats, columns=['feature', 'tfidf'])\n",
    "    return df\n",
    "# Function to generate a randomized topic from a predefined list\n",
    "def generate_topic(topic_list):\n",
    "    return random.choice(topic_list)\n",
    "\n",
    "# Function to generate a randomized list of business keywords\n",
    "def generate_keywords(all_keywords):\n",
    "    return random.sample(all_keywords, random.randint(1, 10))\n",
    "\n",
    "# Function for generating the texts length\n",
    "def generate_length(lengths):\n",
    "    return random.choice(lengths)\n",
    "\n",
    "# Function to randomly choose a sentiment\n",
    "def generate_sentiment(sentiment_value):\n",
    "    #sentiments = ['negative','positive', 'neutral']\n",
    "    #return random.choice(sentiments)\n",
    "    return sentiment_value\n",
    "\n",
    "# Wrapper function to generate topic, keywords, and sentiment\n",
    "def generate_article_input():\n",
    "    return {\n",
    "        \"topic\": generate_topic(topic_list),\n",
    "        \"keywords\": generate_keywords(all_keywords),\n",
    "        \"length\" : generate_length(lengths),\n",
    "        \"sentiment\": generate_sentiment(sentiment_value)\n",
    "    }"
   ]
  },
  {
   "cell_type": "markdown",
   "metadata": {},
   "source": [
    "## DSPy Generator "
   ]
  },
  {
   "cell_type": "code",
   "execution_count": null,
   "metadata": {},
   "outputs": [],
   "source": [
    "# DSPy generator\n",
    "class GenerateArticle(dspy.Signature):\n",
    "    \"\"\"Generate a short textual article\"\"\"\n",
    "    topic = dspy.InputField(desc=\"Contains the desired topic, keywords, word-count range, and sentiment\")\n",
    "    keywords = dspy.InputField(desc=\"A list of keywords that should be incorporated\")\n",
    "    count_range = dspy.InputField(desc=\"Word count range of the output\")\n",
    "    sentiment = dspy.InputField(desc=\"The textual sentiment that should be expressed in output\")\n",
    "    answer = dspy.OutputField(desc=\"Generate a randomized high quality financial-news text from the inputs\")\n",
    "generate_answer = dspy.Predict(GenerateArticle, temperature=0.7, n=1)"
   ]
  },
  {
   "cell_type": "markdown",
   "metadata": {},
   "source": [
    "## Synthetic News Article Inputs"
   ]
  },
  {
   "cell_type": "code",
   "execution_count": null,
   "metadata": {},
   "outputs": [],
   "source": [
    "# Inputs for synthetic news articles\n",
    "numbers = [0,1,2]\n",
    "sentiments = ['negative','neutral', 'positive']\n",
    "lengths = [10,15,20,25,30,35,40,45,50]"
   ]
  },
  {
   "cell_type": "markdown",
   "metadata": {},
   "source": [
    "## Generating Synthetic News Articles"
   ]
  },
  {
   "cell_type": "code",
   "execution_count": null,
   "metadata": {},
   "outputs": [],
   "source": [
    "# Wrapper\n",
    "for i,k in zip(numbers, sentiments):\n",
    "    text = df[df[\"Sentiment\"]==i]\n",
    "    sentiment_value = k\n",
    "    \n",
    "    # TFIDF extractor\n",
    "    vectorizer = TfidfVectorizer(stop_words='english', max_features=1000, token_pattern=r'(?u)\\b[A-Za-z]+\\b')  # Only match words with English letters\n",
    "    topic_list = list(set(text[\"Name\"]))\n",
    "    tfidf_matrix = vectorizer.fit_transform(text[\"Document\"])\n",
    "    feature_names = vectorizer.get_feature_names_out()\n",
    "    df_tfidf = pd.DataFrame(tfidf_matrix.T.toarray(), index=feature_names)\n",
    "    top_tfidf = top_tfidf_feats(df_tfidf[0].values, feature_names, top_n=100)\n",
    "    all_keywords = list(top_tfidf[\"feature\"])\n",
    "    \n",
    "    # Generator\n",
    "    record = [] \n",
    "    for i in range(0,1292): \n",
    "        article_input = generate_article_input() \n",
    "        pred = generate_answer(topic=str(article_input[\"topic\"]), \n",
    "                               keywords=str(article_input[\"keywords\"]), \n",
    "                               count_range= str(article_input[\"length\"]), \n",
    "                               sentiment=str(article_input[\"sentiment\"]),\n",
    "                               lm=lm) \n",
    "        record.append((pred.values()[0], article_input['sentiment']))\n",
    "    sentiment_data = pd.DataFrame(record, columns=[\"Text\", \"Sentiment\"])\n",
    "    sentiment_data.to_csv(\"synthetic-training\"+ sentiment_value + \".csv\", index=False)"
   ]
  }
 ],
 "metadata": {
  "colab": {
   "provenance": []
  },
  "kernelspec": {
   "display_name": "Python 3 (ipykernel)",
   "language": "python",
   "name": "python3"
  },
  "language_info": {
   "codemirror_mode": {
    "name": "ipython",
    "version": 3
   },
   "file_extension": ".py",
   "mimetype": "text/x-python",
   "name": "python",
   "nbconvert_exporter": "python",
   "pygments_lexer": "ipython3",
   "version": "3.9.16"
  }
 },
 "nbformat": 4,
 "nbformat_minor": 4
}
