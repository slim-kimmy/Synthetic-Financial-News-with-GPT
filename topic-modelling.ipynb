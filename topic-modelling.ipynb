{
 "cells": [
  {
   "cell_type": "markdown",
   "id": "9704c9fa",
   "metadata": {},
   "source": [
    "## Imports "
   ]
  },
  {
   "cell_type": "code",
   "execution_count": null,
   "id": "bd0660d3",
   "metadata": {},
   "outputs": [],
   "source": [
    "import pandas as pd\n",
    "import random\n",
    "import logging\n",
    "import openai\n",
    "from bertopic import BERTopic\n",
    "from bertopic.representation import OpenAI\n",
    "from bertopic.vectorizers import ClassTfidfTransformer\n",
    "from sklearn.decomposition import PCA\n",
    "from bertopic.dimensionality import BaseDimensionalityReduction\n",
    "from sklearn.feature_extraction.text import CountVectorizer"
   ]
  },
  {
   "cell_type": "markdown",
   "id": "dc58e63d",
   "metadata": {},
   "source": [
    "## Summarization Prompt for BERTopic Model"
   ]
  },
  {
   "cell_type": "code",
   "execution_count": null,
   "id": "d4f1712f",
   "metadata": {},
   "outputs": [],
   "source": [
    "df = pd.read_csv(\"training-data.csv\")\n",
    "docs = list(df[\"Text\"])\n",
    "summarization_prompt = \"\"\"\n",
    "I have a topic that is described by the following keywords: [KEYWORDS]\n",
    "In this topic, the following documents are a small but representative subset of all documents in the topic:\n",
    "[DOCUMENTS]\n",
    "\n",
    "Based on the information above, please give a sentence description of this topic in the following format:\n",
    "<description>\n",
    "\"\"\""
   ]
  },
  {
   "cell_type": "markdown",
   "id": "d8ee49d5",
   "metadata": {},
   "source": [
    "## Topic Modelling "
   ]
  },
  {
   "cell_type": "code",
   "execution_count": null,
   "id": "47f75767",
   "metadata": {},
   "outputs": [],
   "source": [
    "# Train BERTopic with a custom CountVectorizer\n",
    "vectorizer_model = CountVectorizer(ngram_range=(1, 3), stop_words=\"english\")\n",
    "ctfidf_model = ClassTfidfTransformer(bm25_weighting=True)\n",
    "# Create your representation model\n",
    "client = openai.OpenAI(api_key=\"API_KEY\")\n",
    "representation_model = OpenAI(client, model=\"gpt-4-0125-preview\", delay_in_seconds=2, chat=True, nr_docs=5, prompt=summarization_prompt)\n",
    "topic_model = BERTopic(verbose=True, ctfidf_model=ctfidf_model, embedding_model=\"all-mpnet-base-v2\", vectorizer_model=vectorizer_model)\n",
    "topics, probs = topic_model.fit_transform(docs)\n",
    "# Reduce and update topics\n",
    "new_topics = topic_model.reduce_outliers(docs, topics, strategy=\"embeddings\")\n",
    "topic_model.update_topics(docs, topics=new_topics, representation_model=representation_model)"
   ]
  },
  {
   "cell_type": "markdown",
   "id": "47e99e5e",
   "metadata": {},
   "source": [
    "## Saving Dataset"
   ]
  },
  {
   "cell_type": "code",
   "execution_count": null,
   "id": "6ae2aa06",
   "metadata": {},
   "outputs": [],
   "source": [
    "# Create df and save to csv\n",
    "df_topics = topic_model.get_document_info(docs)\n",
    "df_topics[\"Sentiment\"] = df[\"Sentiment\"]\n",
    "df_topics.to_csv(\"topic-data.csv\", index=False)"
   ]
  }
 ],
 "metadata": {
  "kernelspec": {
   "display_name": "virtualENV",
   "language": "python",
   "name": "virtualenv"
  },
  "language_info": {
   "codemirror_mode": {
    "name": "ipython",
    "version": 3
   },
   "file_extension": ".py",
   "mimetype": "text/x-python",
   "name": "python",
   "nbconvert_exporter": "python",
   "pygments_lexer": "ipython3",
   "version": "3.9.16"
  }
 },
 "nbformat": 4,
 "nbformat_minor": 5
}
